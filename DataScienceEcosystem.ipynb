{
 "cells": [
  {
   "cell_type": "markdown",
   "id": "6ca01122-ecba-4612-b32a-2b05afa675b0",
   "metadata": {},
   "source": [
    "# Data Science Tools and Ecosystem"
   ]
  },
  {
   "cell_type": "markdown",
   "id": "245becd6-7482-4ba5-92a1-bd972d365641",
   "metadata": {},
   "source": [
    "In this notebook, Data Science Tools and Ecosystem are summarized."
   ]
  },
  {
   "cell_type": "markdown",
   "id": "602cb6a2-113c-4c19-a679-4cc5e9f1751c",
   "metadata": {},
   "source": [
    "Some of the popular languages that Data Scientists use are : \n",
    "1. Python \n",
    "2. R\n",
    "3. SQL"
   ]
  },
  {
   "cell_type": "markdown",
   "id": "1a031c6a-b545-4688-beba-5ee649c418bd",
   "metadata": {},
   "source": [
    "Some of the commonly used libraries used by Data Scientists include \n",
    "1. Scientific Computing - NumPy\n",
    "2. Data Visualization - Matplotib\n",
    "3. Machine Learning - Scikit-learn"
   ]
  },
  {
   "cell_type": "markdown",
   "id": "800677d8-e178-45d8-a1bb-175139c74009",
   "metadata": {},
   "source": [
    "|Data Science Tools|\n",
    "|------------------|\n",
    "|Jupyter Notebook|\n",
    "|R Studio|\n",
    "|VS Code|"
   ]
  },
  {
   "cell_type": "markdown",
   "id": "4f9edec4-1a8a-49eb-8a4c-c5b881569344",
   "metadata": {},
   "source": [
    "### Below are a few examples of evaluating arithmetic expressions in Python"
   ]
  },
  {
   "cell_type": "markdown",
   "id": "9ac27cca-7feb-420f-b594-fe6a8e961d11",
   "metadata": {},
   "source": [
    "This a simple arithmetic expression to multiply then add integers"
   ]
  },
  {
   "cell_type": "code",
   "execution_count": 10,
   "id": "d5e74cb5-2d51-4393-b52c-96ae8b2b094d",
   "metadata": {},
   "outputs": [
    {
     "data": {
      "text/plain": [
       "17"
      ]
     },
     "execution_count": 10,
     "metadata": {},
     "output_type": "execute_result"
    }
   ],
   "source": [
    "(3*4)+5"
   ]
  },
  {
   "cell_type": "markdown",
   "id": "7e4e8591-a283-4b6f-8e65-d0a6ff4f5741",
   "metadata": {},
   "source": [
    "This will convert 200 minutes to hours by dividing by 60"
   ]
  },
  {
   "cell_type": "code",
   "execution_count": 13,
   "id": "20166a9a-5d39-41d1-8b82-0457c4265a2e",
   "metadata": {},
   "outputs": [
    {
     "data": {
      "text/plain": [
       "3.3333333333333335"
      ]
     },
     "execution_count": 13,
     "metadata": {},
     "output_type": "execute_result"
    }
   ],
   "source": [
    "200/60"
   ]
  },
  {
   "cell_type": "markdown",
   "id": "f65faaae-ae42-4a0e-a952-472899166e9a",
   "metadata": {},
   "source": [
    "**Objectives**\n",
    "- Phyton\n",
    "- R \n",
    "- SQL\n",
    "- Scala\n",
    "- Java "
   ]
  },
  {
   "cell_type": "markdown",
   "id": "72475d84-214a-4d24-94a7-ea5f4546d622",
   "metadata": {},
   "source": [
    "## Author\n",
    "Adrian Benedictus Watratan\n"
   ]
  },
  {
   "cell_type": "code",
   "execution_count": null,
   "id": "b07b2cee-cb9a-43fc-9c9d-98e2e556c42f",
   "metadata": {},
   "outputs": [],
   "source": []
  }
 ],
 "metadata": {
  "kernelspec": {
   "display_name": "Python 3 (ipykernel)",
   "language": "python",
   "name": "python3"
  },
  "language_info": {
   "codemirror_mode": {
    "name": "ipython",
    "version": 3
   },
   "file_extension": ".py",
   "mimetype": "text/x-python",
   "name": "python",
   "nbconvert_exporter": "python",
   "pygments_lexer": "ipython3",
   "version": "3.11.7"
  }
 },
 "nbformat": 4,
 "nbformat_minor": 5
}
